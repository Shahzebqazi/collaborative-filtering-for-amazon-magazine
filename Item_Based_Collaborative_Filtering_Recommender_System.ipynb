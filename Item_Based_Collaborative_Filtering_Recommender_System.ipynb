{
 "cells": [
  {
   "cell_type": "markdown",
   "metadata": {
    "id": "jwk5datezITD"
   },
   "source": [
    "# Importing the Libraries"
   ]
  },
  {
   "cell_type": "code",
   "execution_count": 26,
   "metadata": {
    "colab": {
     "base_uri": "https://localhost:8080/"
    },
    "id": "uSWmAQikDiIN",
    "outputId": "029d6a16-7462-4798-e94c-06be938e6917"
   },
   "outputs": [],
   "source": [
    "!pip install fuzzywuzzy"
   ]
  },
  {
   "cell_type": "code",
   "execution_count": 2,
   "metadata": {
    "colab": {
     "base_uri": "https://localhost:8080/"
    },
    "id": "4qxvWu7zl4S5",
    "outputId": "db3240c9-acd2-481d-b4bf-1584332257f6"
   },
   "outputs": [],
   "source": [
    "import warnings\n",
    "warnings.filterwarnings(\"ignore\")\n",
    "\n",
    "import numpy as np\n",
    "import pandas as pd\n",
    "from sklearn.preprocessing import LabelEncoder\n",
    "from scipy.sparse import csr_matrix\n",
    "from sklearn.neighbors import NearestNeighbors\n",
    "from fuzzywuzzy import fuzz\n",
    "import seaborn as sns\n",
    "import matplotlib.pyplot as plt\n",
    "plt.style.use('ggplot')"
   ]
  },
  {
   "cell_type": "markdown",
   "metadata": {
    "id": "gTqzjyxpzMlK"
   },
   "source": [
    "# Loading the Dataset"
   ]
  },
  {
   "cell_type": "code",
   "execution_count": 3,
   "metadata": {
    "colab": {
     "base_uri": "https://localhost:8080/",
     "height": 362
    },
    "id": "G5SwSy8xl6y6",
    "outputId": "81471119-3fd7-490b-afa1-5862df684435",
    "scrolled": true
   },
   "outputs": [
    {
     "data": {
      "text/html": [
       "<div>\n",
       "<style scoped>\n",
       "    .dataframe tbody tr th:only-of-type {\n",
       "        vertical-align: middle;\n",
       "    }\n",
       "\n",
       "    .dataframe tbody tr th {\n",
       "        vertical-align: top;\n",
       "    }\n",
       "\n",
       "    .dataframe thead th {\n",
       "        text-align: right;\n",
       "    }\n",
       "</style>\n",
       "<table border=\"1\" class=\"dataframe\">\n",
       "  <thead>\n",
       "    <tr style=\"text-align: right;\">\n",
       "      <th></th>\n",
       "      <th>overall</th>\n",
       "      <th>vote</th>\n",
       "      <th>verified</th>\n",
       "      <th>reviewTime</th>\n",
       "      <th>reviewerID</th>\n",
       "      <th>asin</th>\n",
       "      <th>reviewerName</th>\n",
       "      <th>reviewText</th>\n",
       "      <th>summary</th>\n",
       "      <th>unixReviewTime</th>\n",
       "      <th>style</th>\n",
       "      <th>image</th>\n",
       "    </tr>\n",
       "  </thead>\n",
       "  <tbody>\n",
       "    <tr>\n",
       "      <th>0</th>\n",
       "      <td>5</td>\n",
       "      <td>9</td>\n",
       "      <td>False</td>\n",
       "      <td>11 8, 2001</td>\n",
       "      <td>AH2IFH762VY5U</td>\n",
       "      <td>B00005N7P0</td>\n",
       "      <td>ted sedlmayr</td>\n",
       "      <td>for computer enthusiast, MaxPC is a welcome si...</td>\n",
       "      <td>AVID READER SINCE \"boot\"  WAS THE NAME</td>\n",
       "      <td>1005177600</td>\n",
       "      <td>NaN</td>\n",
       "      <td>NaN</td>\n",
       "    </tr>\n",
       "    <tr>\n",
       "      <th>1</th>\n",
       "      <td>5</td>\n",
       "      <td>9</td>\n",
       "      <td>False</td>\n",
       "      <td>10 31, 2001</td>\n",
       "      <td>AOSFI0JEYU4XM</td>\n",
       "      <td>B00005N7P0</td>\n",
       "      <td>Amazon Customer</td>\n",
       "      <td>Thank god this is not a Ziff Davis publication...</td>\n",
       "      <td>The straight scoop</td>\n",
       "      <td>1004486400</td>\n",
       "      <td>NaN</td>\n",
       "      <td>NaN</td>\n",
       "    </tr>\n",
       "    <tr>\n",
       "      <th>2</th>\n",
       "      <td>3</td>\n",
       "      <td>14</td>\n",
       "      <td>False</td>\n",
       "      <td>03 24, 2007</td>\n",
       "      <td>A3JPFWKS83R49V</td>\n",
       "      <td>B00005N7OJ</td>\n",
       "      <td>Bryan Carey</td>\n",
       "      <td>Antiques Magazine is a publication made for an...</td>\n",
       "      <td>Antiques Magazine is Good, but not for Everyone</td>\n",
       "      <td>1174694400</td>\n",
       "      <td>{'Format:': ' Print Magazine'}</td>\n",
       "      <td>NaN</td>\n",
       "    </tr>\n",
       "    <tr>\n",
       "      <th>3</th>\n",
       "      <td>5</td>\n",
       "      <td>13</td>\n",
       "      <td>False</td>\n",
       "      <td>11 10, 2006</td>\n",
       "      <td>A19FKU6JZQ2ECJ</td>\n",
       "      <td>B00005N7OJ</td>\n",
       "      <td>Patricia L. Porada</td>\n",
       "      <td>This beautiful magazine is in itself a work of...</td>\n",
       "      <td>THE  DISCERNING READER</td>\n",
       "      <td>1163116800</td>\n",
       "      <td>{'Format:': ' Print Magazine'}</td>\n",
       "      <td>NaN</td>\n",
       "    </tr>\n",
       "    <tr>\n",
       "      <th>4</th>\n",
       "      <td>5</td>\n",
       "      <td>NaN</td>\n",
       "      <td>True</td>\n",
       "      <td>07 14, 2014</td>\n",
       "      <td>A25MDGOMZ2GALN</td>\n",
       "      <td>B00005N7P0</td>\n",
       "      <td>Alvey</td>\n",
       "      <td>A great read every issue.</td>\n",
       "      <td>Five Stars</td>\n",
       "      <td>1405296000</td>\n",
       "      <td>NaN</td>\n",
       "      <td>NaN</td>\n",
       "    </tr>\n",
       "  </tbody>\n",
       "</table>\n",
       "</div>"
      ],
      "text/plain": [
       "   overall vote  verified   reviewTime      reviewerID        asin  \\\n",
       "0        5    9     False   11 8, 2001   AH2IFH762VY5U  B00005N7P0   \n",
       "1        5    9     False  10 31, 2001   AOSFI0JEYU4XM  B00005N7P0   \n",
       "2        3   14     False  03 24, 2007  A3JPFWKS83R49V  B00005N7OJ   \n",
       "3        5   13     False  11 10, 2006  A19FKU6JZQ2ECJ  B00005N7OJ   \n",
       "4        5  NaN      True  07 14, 2014  A25MDGOMZ2GALN  B00005N7P0   \n",
       "\n",
       "         reviewerName                                         reviewText  \\\n",
       "0        ted sedlmayr  for computer enthusiast, MaxPC is a welcome si...   \n",
       "1     Amazon Customer  Thank god this is not a Ziff Davis publication...   \n",
       "2         Bryan Carey  Antiques Magazine is a publication made for an...   \n",
       "3  Patricia L. Porada  This beautiful magazine is in itself a work of...   \n",
       "4               Alvey                          A great read every issue.   \n",
       "\n",
       "                                           summary  unixReviewTime  \\\n",
       "0           AVID READER SINCE \"boot\"  WAS THE NAME      1005177600   \n",
       "1                               The straight scoop      1004486400   \n",
       "2  Antiques Magazine is Good, but not for Everyone      1174694400   \n",
       "3                           THE  DISCERNING READER      1163116800   \n",
       "4                                       Five Stars      1405296000   \n",
       "\n",
       "                            style image  \n",
       "0                             NaN   NaN  \n",
       "1                             NaN   NaN  \n",
       "2  {'Format:': ' Print Magazine'}   NaN  \n",
       "3  {'Format:': ' Print Magazine'}   NaN  \n",
       "4                             NaN   NaN  "
      ]
     },
     "execution_count": 3,
     "metadata": {},
     "output_type": "execute_result"
    }
   ],
   "source": [
    "df = pd.read_json('Magazine_Subscriptions.json', lines=True)\n",
    "df.head()"
   ]
  },
  {
   "cell_type": "markdown",
   "metadata": {},
   "source": [
    "# Data Exploration"
   ]
  },
  {
   "cell_type": "code",
   "execution_count": 4,
   "metadata": {
    "id": "KTgk00Qk0O0L"
   },
   "outputs": [],
   "source": [
    "df = df.loc[:, ['reviewerID', 'asin', 'overall']] # selecting relevant features"
   ]
  },
  {
   "cell_type": "code",
   "execution_count": 5,
   "metadata": {
    "id": "fBLUKXPf0UZK"
   },
   "outputs": [],
   "source": [
    "df = df.dropna(how='any', axis=0) # dropping rows containing null values"
   ]
  },
  {
   "cell_type": "code",
   "execution_count": 6,
   "metadata": {
    "colab": {
     "base_uri": "https://localhost:8080/"
    },
    "id": "gWY1_lhk0a5a",
    "outputId": "a36879d4-44d4-484e-8990-1ba6aa48d954"
   },
   "outputs": [
    {
     "name": "stdout",
     "output_type": "stream",
     "text": [
      "<class 'pandas.core.frame.DataFrame'>\n",
      "Int64Index: 89689 entries, 0 to 89688\n",
      "Data columns (total 3 columns):\n",
      " #   Column      Non-Null Count  Dtype \n",
      "---  ------      --------------  ----- \n",
      " 0   reviewerID  89689 non-null  object\n",
      " 1   asin        89689 non-null  object\n",
      " 2   overall     89689 non-null  int64 \n",
      "dtypes: int64(1), object(2)\n",
      "memory usage: 2.7+ MB\n"
     ]
    }
   ],
   "source": [
    "df.info()"
   ]
  },
  {
   "cell_type": "code",
   "execution_count": 7,
   "metadata": {
    "scrolled": false
   },
   "outputs": [
    {
     "data": {
      "text/html": [
       "<div>\n",
       "<style scoped>\n",
       "    .dataframe tbody tr th:only-of-type {\n",
       "        vertical-align: middle;\n",
       "    }\n",
       "\n",
       "    .dataframe tbody tr th {\n",
       "        vertical-align: top;\n",
       "    }\n",
       "\n",
       "    .dataframe thead th {\n",
       "        text-align: right;\n",
       "    }\n",
       "</style>\n",
       "<table border=\"1\" class=\"dataframe\">\n",
       "  <thead>\n",
       "    <tr style=\"text-align: right;\">\n",
       "      <th></th>\n",
       "      <th>count</th>\n",
       "    </tr>\n",
       "    <tr>\n",
       "      <th>overall</th>\n",
       "      <th></th>\n",
       "    </tr>\n",
       "  </thead>\n",
       "  <tbody>\n",
       "    <tr>\n",
       "      <th>1</th>\n",
       "      <td>11029</td>\n",
       "    </tr>\n",
       "    <tr>\n",
       "      <th>2</th>\n",
       "      <td>5223</td>\n",
       "    </tr>\n",
       "    <tr>\n",
       "      <th>3</th>\n",
       "      <td>6971</td>\n",
       "    </tr>\n",
       "    <tr>\n",
       "      <th>4</th>\n",
       "      <td>12676</td>\n",
       "    </tr>\n",
       "    <tr>\n",
       "      <th>5</th>\n",
       "      <td>53790</td>\n",
       "    </tr>\n",
       "  </tbody>\n",
       "</table>\n",
       "</div>"
      ],
      "text/plain": [
       "         count\n",
       "overall       \n",
       "1        11029\n",
       "2         5223\n",
       "3         6971\n",
       "4        12676\n",
       "5        53790"
      ]
     },
     "execution_count": 7,
     "metadata": {},
     "output_type": "execute_result"
    }
   ],
   "source": [
    "df_overall_count = pd.DataFrame(df.groupby('overall').size(), columns=['count'])\n",
    "df_overall_count"
   ]
  },
  {
   "cell_type": "code",
   "execution_count": 8,
   "metadata": {},
   "outputs": [
    {
     "data": {
      "text/plain": [
       "Text(0, 0.5, 'count of each overall score')"
      ]
     },
     "execution_count": 8,
     "metadata": {},
     "output_type": "execute_result"
    },
    {
     "data": {
      "image/png": "[encoded data removed]",
      "text/plain": [
       "<Figure size 1008x576 with 1 Axes>"
      ]
     },
     "metadata": {},
     "output_type": "display_data"
    }
   ],
   "source": [
    "ax = df_overall_count.reset_index().plot(\n",
    "    x='overall',\n",
    "    y='count',\n",
    "    kind='bar',\n",
    "    figsize=(14, 8),\n",
    "    title='Count for Each Overall Score',\n",
    "    fontsize=12,\n",
    ")\n",
    "plt.xticks(rotation=0)\n",
    "ax.set_xlabel(\"magazine overall score\")\n",
    "ax.set_ylabel(\"count of each overall score\")"
   ]
  },
  {
   "cell_type": "code",
   "execution_count": 9,
   "metadata": {
    "scrolled": true
   },
   "outputs": [
    {
     "data": {
      "text/html": [
       "<div>\n",
       "<style scoped>\n",
       "    .dataframe tbody tr th:only-of-type {\n",
       "        vertical-align: middle;\n",
       "    }\n",
       "\n",
       "    .dataframe tbody tr th {\n",
       "        vertical-align: top;\n",
       "    }\n",
       "\n",
       "    .dataframe thead th {\n",
       "        text-align: right;\n",
       "    }\n",
       "</style>\n",
       "<table border=\"1\" class=\"dataframe\">\n",
       "  <thead>\n",
       "    <tr style=\"text-align: right;\">\n",
       "      <th></th>\n",
       "      <th>count</th>\n",
       "    </tr>\n",
       "    <tr>\n",
       "      <th>asin</th>\n",
       "      <th></th>\n",
       "    </tr>\n",
       "  </thead>\n",
       "  <tbody>\n",
       "    <tr>\n",
       "      <th>B00005N7NQ</th>\n",
       "      <td>117</td>\n",
       "    </tr>\n",
       "    <tr>\n",
       "      <th>B00005N7O3</th>\n",
       "      <td>5</td>\n",
       "    </tr>\n",
       "    <tr>\n",
       "      <th>B00005N7O4</th>\n",
       "      <td>6</td>\n",
       "    </tr>\n",
       "    <tr>\n",
       "      <th>B00005N7O6</th>\n",
       "      <td>64</td>\n",
       "    </tr>\n",
       "    <tr>\n",
       "      <th>B00005N7O9</th>\n",
       "      <td>23</td>\n",
       "    </tr>\n",
       "  </tbody>\n",
       "</table>\n",
       "</div>"
      ],
      "text/plain": [
       "            count\n",
       "asin             \n",
       "B00005N7NQ    117\n",
       "B00005N7O3      5\n",
       "B00005N7O4      6\n",
       "B00005N7O6     64\n",
       "B00005N7O9     23"
      ]
     },
     "execution_count": 9,
     "metadata": {},
     "output_type": "execute_result"
    }
   ],
   "source": [
    "df_asin_count = pd.DataFrame(df.groupby('asin').size(), columns=['count'])\n",
    "df_asin_count.head()"
   ]
  },
  {
   "cell_type": "code",
   "execution_count": 10,
   "metadata": {
    "scrolled": false
   },
   "outputs": [
    {
     "data": {
      "text/plain": [
       "Text(0, 0.5, 'number of overall scores')"
      ]
     },
     "execution_count": 10,
     "metadata": {},
     "output_type": "execute_result"
    },
    {
     "data": {
      "image/png": "[encoded data removed]",
      "text/plain": [
       "<Figure size 864x576 with 1 Axes>"
      ]
     },
     "metadata": {},
     "output_type": "display_data"
    }
   ],
   "source": [
    "# plotting overall frequency of all asin values\n",
    "ax = df_asin_count.sort_values('count', ascending=False).reset_index(drop=True).plot(\n",
    "                                                                    figsize=(12, 8),\n",
    "                                                                    title='Overall Frequency of All Magazines',\n",
    "                                                                    fontsize=12\n",
    "    )\n",
    "ax.set_xlabel(\"asin\")\n",
    "ax.set_ylabel(\"number of overall scores\")"
   ]
  },
  {
   "cell_type": "code",
   "execution_count": 11,
   "metadata": {},
   "outputs": [
    {
     "data": {
      "text/plain": [
       "1.00    1718.0\n",
       "0.95     168.0\n",
       "0.90      66.3\n",
       "0.85      43.0\n",
       "0.80      28.0\n",
       "0.75      21.0\n",
       "0.70      16.0\n",
       "0.65      13.0\n",
       "Name: count, dtype: float64"
      ]
     },
     "execution_count": 11,
     "metadata": {},
     "output_type": "execute_result"
    }
   ],
   "source": [
    "# distribution of overall scores by asin values\n",
    "df_asin_count['count'].quantile(np.arange(1, 0.6, -0.05))"
   ]
  },
  {
   "cell_type": "code",
   "execution_count": 12,
   "metadata": {
    "scrolled": true
   },
   "outputs": [
    {
     "data": {
      "text/html": [
       "<div>\n",
       "<style scoped>\n",
       "    .dataframe tbody tr th:only-of-type {\n",
       "        vertical-align: middle;\n",
       "    }\n",
       "\n",
       "    .dataframe tbody tr th {\n",
       "        vertical-align: top;\n",
       "    }\n",
       "\n",
       "    .dataframe thead th {\n",
       "        text-align: right;\n",
       "    }\n",
       "</style>\n",
       "<table border=\"1\" class=\"dataframe\">\n",
       "  <thead>\n",
       "    <tr style=\"text-align: right;\">\n",
       "      <th></th>\n",
       "      <th>count</th>\n",
       "    </tr>\n",
       "    <tr>\n",
       "      <th>reviewerID</th>\n",
       "      <th></th>\n",
       "    </tr>\n",
       "  </thead>\n",
       "  <tbody>\n",
       "    <tr>\n",
       "      <th>A0068533X8Y5TYUJWWIC</th>\n",
       "      <td>1</td>\n",
       "    </tr>\n",
       "    <tr>\n",
       "      <th>A02292976AOUT3I4ZLFA</th>\n",
       "      <td>1</td>\n",
       "    </tr>\n",
       "    <tr>\n",
       "      <th>A0328927TA7ECTIKNP3G</th>\n",
       "      <td>1</td>\n",
       "    </tr>\n",
       "    <tr>\n",
       "      <th>A0333047WGK24IZKLDP2</th>\n",
       "      <td>1</td>\n",
       "    </tr>\n",
       "    <tr>\n",
       "      <th>A0479411TZTHITJ9TFB8</th>\n",
       "      <td>1</td>\n",
       "    </tr>\n",
       "  </tbody>\n",
       "</table>\n",
       "</div>"
      ],
      "text/plain": [
       "                      count\n",
       "reviewerID                 \n",
       "A0068533X8Y5TYUJWWIC      1\n",
       "A02292976AOUT3I4ZLFA      1\n",
       "A0328927TA7ECTIKNP3G      1\n",
       "A0333047WGK24IZKLDP2      1\n",
       "A0479411TZTHITJ9TFB8      1"
      ]
     },
     "execution_count": 12,
     "metadata": {},
     "output_type": "execute_result"
    }
   ],
   "source": [
    "df_reviewers_count = pd.DataFrame(df.groupby('reviewerID').size(), columns=['count'])\n",
    "df_reviewers_count.head()"
   ]
  },
  {
   "cell_type": "code",
   "execution_count": 13,
   "metadata": {},
   "outputs": [
    {
     "data": {
      "text/plain": [
       "Text(0, 0.5, 'number of overall scores')"
      ]
     },
     "execution_count": 13,
     "metadata": {},
     "output_type": "execute_result"
    },
    {
     "data": {
      "image/png": "[encoded data removed]",
      "text/plain": [
       "<Figure size 864x576 with 1 Axes>"
      ]
     },
     "metadata": {},
     "output_type": "display_data"
    }
   ],
   "source": [
    "# plotting overall frequency of all reviewers\n",
    "ax = df_reviewers_count.sort_values('count', ascending=False).reset_index(drop=True).plot(\n",
    "                                                                    figsize=(12, 8),\n",
    "                                                                    title='Rating Frequency of All Users',\n",
    "                                                                    fontsize=12\n",
    "    )\n",
    "ax.set_xlabel(\"reviewer ID\")\n",
    "ax.set_ylabel(\"number of overall scores\")"
   ]
  },
  {
   "cell_type": "code",
   "execution_count": 14,
   "metadata": {},
   "outputs": [
    {
     "data": {
      "text/plain": [
       "1.00    55.0\n",
       "0.95     2.0\n",
       "0.90     2.0\n",
       "0.85     2.0\n",
       "0.80     1.0\n",
       "0.75     1.0\n",
       "0.70     1.0\n",
       "0.65     1.0\n",
       "0.60     1.0\n",
       "0.55     1.0\n",
       "Name: count, dtype: float64"
      ]
     },
     "execution_count": 14,
     "metadata": {},
     "output_type": "execute_result"
    }
   ],
   "source": [
    "# distribution of overall scores by reviewers\n",
    "df_reviewers_count['count'].quantile(np.arange(1, 0.5, -0.05))"
   ]
  },
  {
   "cell_type": "markdown",
   "metadata": {
    "id": "rkYP-05Uy-to"
   },
   "source": [
    "# Building Item-Based Collaborative Filtering Recommender System With Cosine Similarity"
   ]
  },
  {
   "cell_type": "markdown",
   "metadata": {
    "id": "fRokI3vC0Jhm"
   },
   "source": [
    "## Data Preprocessing"
   ]
  },
  {
   "cell_type": "code",
   "execution_count": 15,
   "metadata": {
    "colab": {
     "base_uri": "https://localhost:8080/"
    },
    "id": "7z9zDo_kyfC2",
    "outputId": "1fdcf0a3-5df1-474f-d121-fa23cfd675d7"
   },
   "outputs": [
    {
     "name": "stdout",
     "output_type": "stream",
     "text": [
      "There are 72098 unique reviewers and 2428 unique magazines in this dataset\n"
     ]
    }
   ],
   "source": [
    "num_users = len(df.reviewerID.unique())\n",
    "num_items = len(df.asin.unique())\n",
    "print('There are {} unique reviewers and {} unique magazines in this dataset'.format(num_users, num_items))"
   ]
  },
  {
   "cell_type": "code",
   "execution_count": 16,
   "metadata": {
    "id": "nuhIhtc20I8g"
   },
   "outputs": [],
   "source": [
    "df.drop_duplicates(ignore_index=True, inplace=True) # dropping duplicate rows"
   ]
  },
  {
   "cell_type": "code",
   "execution_count": 17,
   "metadata": {
    "id": "GyGIIeJNF2Mp"
   },
   "outputs": [],
   "source": [
    "le = LabelEncoder()\n",
    "df['productid'] = le.fit_transform(df['asin']) # converting categorical feature to numeric"
   ]
  },
  {
   "cell_type": "code",
   "execution_count": 18,
   "metadata": {
    "id": "iUf9LE200zc8"
   },
   "outputs": [],
   "source": [
    "asin_user_mat = df.pivot_table(index='productid', columns='reviewerID', values='overall').fillna(0)"
   ]
  },
  {
   "cell_type": "code",
   "execution_count": 19,
   "metadata": {
    "id": "40e9a8Bs1BMa"
   },
   "outputs": [],
   "source": [
    "asin_user_mat_sparse = csr_matrix(asin_user_mat.values)"
   ]
  },
  {
   "cell_type": "code",
   "execution_count": 20,
   "metadata": {
    "id": "EpvEuMH4CYMS"
   },
   "outputs": [],
   "source": [
    "asin_to_idx = {\n",
    "    asin: i for i, asin in \n",
    "    enumerate(list(df.set_index('productid').loc[asin_user_mat.index].asin))\n",
    "}"
   ]
  },
  {
   "cell_type": "markdown",
   "metadata": {
    "id": "ZOijEnquQNwB"
   },
   "source": [
    "## Model Training"
   ]
  },
  {
   "cell_type": "code",
   "execution_count": 21,
   "metadata": {
    "id": "aL6Baol8ztJu"
   },
   "outputs": [],
   "source": [
    "def fuzzy_matching(mapper, fav_magazine, verbose=True):\n",
    "    match_tuple = []\n",
    "\n",
    "    for asin, idx in mapper.items():\n",
    "        ratio = fuzz.ratio(asin.lower(), fav_magazine.lower())\n",
    "        if ratio >= 60:\n",
    "            match_tuple.append((asin, idx, ratio))\n",
    "\n",
    "    match_tuple = sorted(match_tuple, key=lambda x: x[2])[::-1]\n",
    "    if not match_tuple:\n",
    "        print('No match is found')\n",
    "        return\n",
    "    if verbose:\n",
    "        print('Found possible matches in our database: {0}\\n'.format([x[0] for x in match_tuple]))\n",
    "    return match_tuple[0][1]"
   ]
  },
  {
   "cell_type": "code",
   "execution_count": 22,
   "metadata": {
    "colab": {
     "base_uri": "https://localhost:8080/"
    },
    "id": "1e3_D_J8zm5m",
    "outputId": "b502dbd5-fec1-42cb-e37d-97f2b2d76937"
   },
   "outputs": [
    {
     "data": {
      "text/plain": [
       "NearestNeighbors(algorithm='brute', metric='cosine', n_jobs=-1, n_neighbors=1)"
      ]
     },
     "execution_count": 22,
     "metadata": {},
     "output_type": "execute_result"
    }
   ],
   "source": [
    "model_knn = NearestNeighbors(n_neighbors=1,  algorithm='brute', metric='cosine', n_jobs=-1)\n",
    "model_knn.fit(asin_user_mat_sparse)"
   ]
  },
  {
   "cell_type": "code",
   "execution_count": 23,
   "metadata": {
    "colab": {
     "base_uri": "https://localhost:8080/"
    },
    "id": "gFrNJwDNOQhy",
    "outputId": "adfb6a50-7370-47d4-a240-2e1e378ce513"
   },
   "outputs": [
    {
     "data": {
      "text/plain": [
       "NearestNeighbors(algorithm='brute', metric='cosine', n_jobs=-1, n_neighbors=1)"
      ]
     },
     "execution_count": 23,
     "metadata": {},
     "output_type": "execute_result"
    }
   ],
   "source": [
    "favourite_magazine = 'B00005N7P0' \n",
    "model_knn.fit(asin_user_mat_sparse) # training"
   ]
  },
  {
   "cell_type": "markdown",
   "metadata": {
    "id": "Y5ryyo0PQYe5"
   },
   "source": [
    "## Making Recommendations"
   ]
  },
  {
   "cell_type": "code",
   "execution_count": 24,
   "metadata": {
    "id": "TOnYVOJyPKzk"
   },
   "outputs": [],
   "source": [
    "idx = fuzzy_matching(asin_to_idx, favourite_magazine, verbose=False)\n",
    "distances, indices = model_knn.kneighbors(asin_user_mat_sparse[idx], n_neighbors=6)\n",
    "raw_recommends = sorted(list(zip(indices.squeeze().tolist(), distances.squeeze().tolist())), key=lambda x: x[1])[:0:-1]\n",
    "reverse_mapper = {v: k for k, v in asin_to_idx.items()}"
   ]
  },
  {
   "cell_type": "code",
   "execution_count": 25,
   "metadata": {
    "colab": {
     "base_uri": "https://localhost:8080/"
    },
    "id": "cJ1t_jjFPM1y",
    "outputId": "5c511de4-45d8-46b7-ffcc-ac4c670a8757",
    "scrolled": true
   },
   "outputs": [
    {
     "name": "stdout",
     "output_type": "stream",
     "text": [
      "\n",
      "Input Magazine: B00005N7P0\n",
      "\n",
      "Recommendations for users who also browsed B00005N7P0:\n",
      "\n",
      "1: B00005N7UC, with cosine distance of 0.971007245181458\n",
      "2: B00005Q7E7, with cosine distance of 0.9629139658390499\n",
      "3: B00005UQ65, with cosine distance of 0.9619186392981828\n",
      "4: B0032KHQXO, with cosine distance of 0.9341047244023177\n",
      "5: B000F2BVK6, with cosine distance of 0.898123275037932\n"
     ]
    }
   ],
   "source": [
    "print('\\nInput Magazine:', favourite_magazine)\n",
    "print('\\nRecommendations for users who also browsed {}:\\n'.format(favourite_magazine))\n",
    "for i, (idx, dist) in enumerate(raw_recommends):\n",
    "    print('{0}: {1}, with cosine distance of {2}'.format(i+1, df[df['productid'] == idx]['asin'].values[0], dist))"
   ]
  }
 ],
 "metadata": {
  "accelerator": "GPU",
  "colab": {
   "collapsed_sections": [],
   "machine_shape": "hm",
   "name": "Item Based Collaborative Filtering Recommender System.ipynb",
   "provenance": []
  },
  "kernelspec": {
   "display_name": "Python 3",
   "language": "python",
   "name": "python3"
  },
  "language_info": {
   "codemirror_mode": {
    "name": "ipython",
    "version": 3
   },
   "file_extension": ".py",
   "mimetype": "text/x-python",
   "name": "python",
   "nbconvert_exporter": "python",
   "pygments_lexer": "ipython3",
   "version": "3.8.8"
  }
 },
 "nbformat": 4,
 "nbformat_minor": 1
}
