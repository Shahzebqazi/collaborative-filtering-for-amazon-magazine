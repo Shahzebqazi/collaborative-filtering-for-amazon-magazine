{
 "cells": [
  {
   "cell_type": "markdown",
   "metadata": {
    "id": "jwk5datezITD"
   },
   "source": [
    "# Importing the Libraries"
   ]
  },
  {
   "cell_type": "code",
   "execution_count": 2,
   "metadata": {
    "colab": {
     "base_uri": "https://localhost:8080/"
    },
    "id": "uSWmAQikDiIN",
    "outputId": "029d6a16-7462-4798-e94c-06be938e6917"
   },
   "outputs": [
    {
     "name": "stdout",
     "output_type": "stream",
     "text": [
      "Collecting fuzzywuzzy\n",
      "  Downloading fuzzywuzzy-0.18.0-py2.py3-none-any.whl (18 kB)\n",
      "Installing collected packages: fuzzywuzzy\n",
      "Successfully installed fuzzywuzzy-0.18.0\n"
     ]
    }
   ],
   "source": [
    "!pip install fuzzywuzzy"
   ]
  },
  {
   "cell_type": "code",
   "execution_count": 1,
   "metadata": {
    "colab": {
     "base_uri": "https://localhost:8080/"
    },
    "id": "4qxvWu7zl4S5",
    "outputId": "db3240c9-acd2-481d-b4bf-1584332257f6"
   },
   "outputs": [],
   "source": [
    "import numpy as np\n",
    "import pandas as pd\n",
    "from sklearn.preprocessing import LabelEncoder\n",
    "from scipy.sparse import csr_matrix\n",
    "from sklearn.neighbors import NearestNeighbors\n",
    "from fuzzywuzzy import fuzz"
   ]
  },
  {
   "cell_type": "markdown",
   "metadata": {
    "id": "gTqzjyxpzMlK"
   },
   "source": [
    "# Loading the Dataset"
   ]
  },
  {
   "cell_type": "code",
   "execution_count": 4,
   "metadata": {
    "colab": {
     "base_uri": "https://localhost:8080/",
     "height": 362
    },
    "id": "G5SwSy8xl6y6",
    "outputId": "81471119-3fd7-490b-afa1-5862df684435"
   },
   "outputs": [
    {
     "data": {
      "text/html": [
       "<div>\n",
       "<style scoped>\n",
       "    .dataframe tbody tr th:only-of-type {\n",
       "        vertical-align: middle;\n",
       "    }\n",
       "\n",
       "    .dataframe tbody tr th {\n",
       "        vertical-align: top;\n",
       "    }\n",
       "\n",
       "    .dataframe thead th {\n",
       "        text-align: right;\n",
       "    }\n",
       "</style>\n",
       "<table border=\"1\" class=\"dataframe\">\n",
       "  <thead>\n",
       "    <tr style=\"text-align: right;\">\n",
       "      <th></th>\n",
       "      <th>overall</th>\n",
       "      <th>vote</th>\n",
       "      <th>verified</th>\n",
       "      <th>reviewTime</th>\n",
       "      <th>reviewerID</th>\n",
       "      <th>asin</th>\n",
       "      <th>reviewerName</th>\n",
       "      <th>reviewText</th>\n",
       "      <th>summary</th>\n",
       "      <th>unixReviewTime</th>\n",
       "      <th>style</th>\n",
       "      <th>image</th>\n",
       "    </tr>\n",
       "  </thead>\n",
       "  <tbody>\n",
       "    <tr>\n",
       "      <th>0</th>\n",
       "      <td>5</td>\n",
       "      <td>9</td>\n",
       "      <td>False</td>\n",
       "      <td>11 8, 2001</td>\n",
       "      <td>AH2IFH762VY5U</td>\n",
       "      <td>B00005N7P0</td>\n",
       "      <td>ted sedlmayr</td>\n",
       "      <td>for computer enthusiast, MaxPC is a welcome si...</td>\n",
       "      <td>AVID READER SINCE \"boot\"  WAS THE NAME</td>\n",
       "      <td>1005177600</td>\n",
       "      <td>NaN</td>\n",
       "      <td>NaN</td>\n",
       "    </tr>\n",
       "    <tr>\n",
       "      <th>1</th>\n",
       "      <td>5</td>\n",
       "      <td>9</td>\n",
       "      <td>False</td>\n",
       "      <td>10 31, 2001</td>\n",
       "      <td>AOSFI0JEYU4XM</td>\n",
       "      <td>B00005N7P0</td>\n",
       "      <td>Amazon Customer</td>\n",
       "      <td>Thank god this is not a Ziff Davis publication...</td>\n",
       "      <td>The straight scoop</td>\n",
       "      <td>1004486400</td>\n",
       "      <td>NaN</td>\n",
       "      <td>NaN</td>\n",
       "    </tr>\n",
       "    <tr>\n",
       "      <th>2</th>\n",
       "      <td>3</td>\n",
       "      <td>14</td>\n",
       "      <td>False</td>\n",
       "      <td>03 24, 2007</td>\n",
       "      <td>A3JPFWKS83R49V</td>\n",
       "      <td>B00005N7OJ</td>\n",
       "      <td>Bryan Carey</td>\n",
       "      <td>Antiques Magazine is a publication made for an...</td>\n",
       "      <td>Antiques Magazine is Good, but not for Everyone</td>\n",
       "      <td>1174694400</td>\n",
       "      <td>{'Format:': ' Print Magazine'}</td>\n",
       "      <td>NaN</td>\n",
       "    </tr>\n",
       "    <tr>\n",
       "      <th>3</th>\n",
       "      <td>5</td>\n",
       "      <td>13</td>\n",
       "      <td>False</td>\n",
       "      <td>11 10, 2006</td>\n",
       "      <td>A19FKU6JZQ2ECJ</td>\n",
       "      <td>B00005N7OJ</td>\n",
       "      <td>Patricia L. Porada</td>\n",
       "      <td>This beautiful magazine is in itself a work of...</td>\n",
       "      <td>THE  DISCERNING READER</td>\n",
       "      <td>1163116800</td>\n",
       "      <td>{'Format:': ' Print Magazine'}</td>\n",
       "      <td>NaN</td>\n",
       "    </tr>\n",
       "    <tr>\n",
       "      <th>4</th>\n",
       "      <td>5</td>\n",
       "      <td>NaN</td>\n",
       "      <td>True</td>\n",
       "      <td>07 14, 2014</td>\n",
       "      <td>A25MDGOMZ2GALN</td>\n",
       "      <td>B00005N7P0</td>\n",
       "      <td>Alvey</td>\n",
       "      <td>A great read every issue.</td>\n",
       "      <td>Five Stars</td>\n",
       "      <td>1405296000</td>\n",
       "      <td>NaN</td>\n",
       "      <td>NaN</td>\n",
       "    </tr>\n",
       "  </tbody>\n",
       "</table>\n",
       "</div>"
      ],
      "text/plain": [
       "   overall vote  verified  ... unixReviewTime                           style image\n",
       "0        5    9     False  ...     1005177600                             NaN   NaN\n",
       "1        5    9     False  ...     1004486400                             NaN   NaN\n",
       "2        3   14     False  ...     1174694400  {'Format:': ' Print Magazine'}   NaN\n",
       "3        5   13     False  ...     1163116800  {'Format:': ' Print Magazine'}   NaN\n",
       "4        5  NaN      True  ...     1405296000                             NaN   NaN\n",
       "\n",
       "[5 rows x 12 columns]"
      ]
     },
     "execution_count": 4,
     "metadata": {},
     "output_type": "execute_result"
    }
   ],
   "source": [
    "df = pd.read_json('Magazine_Subscriptions.json', lines=True)\n",
    "df.head()"
   ]
  },
  {
   "cell_type": "code",
   "execution_count": 5,
   "metadata": {
    "id": "KTgk00Qk0O0L"
   },
   "outputs": [],
   "source": [
    "df = df.loc[:, ['reviewerID', 'asin', 'overall']]"
   ]
  },
  {
   "cell_type": "code",
   "execution_count": 6,
   "metadata": {
    "id": "fBLUKXPf0UZK"
   },
   "outputs": [],
   "source": [
    "df = df.dropna(how='any', axis=0)"
   ]
  },
  {
   "cell_type": "code",
   "execution_count": 7,
   "metadata": {
    "colab": {
     "base_uri": "https://localhost:8080/"
    },
    "id": "gWY1_lhk0a5a",
    "outputId": "a36879d4-44d4-484e-8990-1ba6aa48d954"
   },
   "outputs": [
    {
     "name": "stdout",
     "output_type": "stream",
     "text": [
      "<class 'pandas.core.frame.DataFrame'>\n",
      "Int64Index: 89689 entries, 0 to 89688\n",
      "Data columns (total 3 columns):\n",
      " #   Column      Non-Null Count  Dtype \n",
      "---  ------      --------------  ----- \n",
      " 0   reviewerID  89689 non-null  object\n",
      " 1   asin        89689 non-null  object\n",
      " 2   overall     89689 non-null  int64 \n",
      "dtypes: int64(1), object(2)\n",
      "memory usage: 2.7+ MB\n"
     ]
    }
   ],
   "source": [
    "df.info()"
   ]
  },
  {
   "cell_type": "code",
   "execution_count": 8,
   "metadata": {
    "colab": {
     "base_uri": "https://localhost:8080/"
    },
    "id": "7z9zDo_kyfC2",
    "outputId": "1fdcf0a3-5df1-474f-d121-fa23cfd675d7"
   },
   "outputs": [
    {
     "name": "stdout",
     "output_type": "stream",
     "text": [
      "There are 72098 unique reviewers and 2428 unique magazines in this data set\n"
     ]
    }
   ],
   "source": [
    "num_users = len(df.reviewerID.unique())\n",
    "num_items = len(df.asin.unique())\n",
    "print('There are {} unique reviewers and {} unique magazines in this dataset'.format(num_users, num_items))"
   ]
  },
  {
   "cell_type": "markdown",
   "metadata": {
    "id": "rkYP-05Uy-to"
   },
   "source": [
    "# Building Item-Based Collaborative Filtering Recommender System With Cosine Similarity"
   ]
  },
  {
   "cell_type": "markdown",
   "metadata": {
    "id": "fRokI3vC0Jhm"
   },
   "source": [
    "## Data Preprocessing"
   ]
  },
  {
   "cell_type": "code",
   "execution_count": 9,
   "metadata": {
    "id": "nuhIhtc20I8g"
   },
   "outputs": [],
   "source": [
    "df.drop_duplicates(ignore_index=True, inplace=True)"
   ]
  },
  {
   "cell_type": "code",
   "execution_count": 10,
   "metadata": {
    "id": "GyGIIeJNF2Mp"
   },
   "outputs": [],
   "source": [
    "le = LabelEncoder()\n",
    "df['productid'] = le.fit_transform(df['asin'])"
   ]
  },
  {
   "cell_type": "code",
   "execution_count": 11,
   "metadata": {
    "id": "iUf9LE200zc8"
   },
   "outputs": [],
   "source": [
    "asin_user_mat = df.pivot_table(index='productid', columns='reviewerID', values='overall').fillna(0)"
   ]
  },
  {
   "cell_type": "code",
   "execution_count": 12,
   "metadata": {
    "id": "40e9a8Bs1BMa"
   },
   "outputs": [],
   "source": [
    "asin_user_mat_sparse = csr_matrix(asin_user_mat.values)"
   ]
  },
  {
   "cell_type": "code",
   "execution_count": 13,
   "metadata": {
    "id": "EpvEuMH4CYMS"
   },
   "outputs": [],
   "source": [
    "asin_to_idx = {\n",
    "    asin: i for i, asin in \n",
    "    enumerate(list(df.set_index('productid').loc[asin_user_mat.index].asin))\n",
    "}"
   ]
  },
  {
   "cell_type": "markdown",
   "metadata": {
    "id": "ZOijEnquQNwB"
   },
   "source": [
    "## Model Training"
   ]
  },
  {
   "cell_type": "code",
   "execution_count": 14,
   "metadata": {
    "id": "aL6Baol8ztJu"
   },
   "outputs": [],
   "source": [
    "def fuzzy_matching(mapper, fav_magazine, verbose=True):\n",
    "    match_tuple = []\n",
    "\n",
    "    for asin, idx in mapper.items():\n",
    "        ratio = fuzz.ratio(asin.lower(), fav_magazine.lower())\n",
    "        if ratio >= 60:\n",
    "            match_tuple.append((asin, idx, ratio))\n",
    "\n",
    "    match_tuple = sorted(match_tuple, key=lambda x: x[2])[::-1]\n",
    "    if not match_tuple:\n",
    "        print('No match is found')\n",
    "        return\n",
    "    if verbose:\n",
    "        print('Found possible matches in our database: {0}\\n'.format([x[0] for x in match_tuple]))\n",
    "    return match_tuple[0][1]"
   ]
  },
  {
   "cell_type": "code",
   "execution_count": 15,
   "metadata": {
    "colab": {
     "base_uri": "https://localhost:8080/"
    },
    "id": "1e3_D_J8zm5m",
    "outputId": "b502dbd5-fec1-42cb-e37d-97f2b2d76937"
   },
   "outputs": [
    {
     "data": {
      "text/plain": [
       "NearestNeighbors(algorithm='brute', metric='cosine', n_jobs=-1, n_neighbors=20)"
      ]
     },
     "execution_count": 15,
     "metadata": {},
     "output_type": "execute_result"
    }
   ],
   "source": [
    "model_knn = NearestNeighbors( n_neighbors=20,  algorithm='brute', metric='cosine', n_jobs=-1)\n",
    "model_knn.fit(asin_user_mat_sparse)"
   ]
  },
  {
   "cell_type": "code",
   "execution_count": 16,
   "metadata": {
    "colab": {
     "base_uri": "https://localhost:8080/"
    },
    "id": "gFrNJwDNOQhy",
    "outputId": "adfb6a50-7370-47d4-a240-2e1e378ce513"
   },
   "outputs": [
    {
     "data": {
      "text/plain": [
       "NearestNeighbors(algorithm='brute', metric='cosine', n_jobs=-1, n_neighbors=20)"
      ]
     },
     "execution_count": 16,
     "metadata": {},
     "output_type": "execute_result"
    }
   ],
   "source": [
    "favourite_magazine = 'B00005N7P0' \n",
    "model_knn.fit(asin_user_mat_sparse)"
   ]
  },
  {
   "cell_type": "markdown",
   "metadata": {
    "id": "Y5ryyo0PQYe5"
   },
   "source": [
    "## Making Recommendations"
   ]
  },
  {
   "cell_type": "code",
   "execution_count": 17,
   "metadata": {
    "id": "TOnYVOJyPKzk"
   },
   "outputs": [],
   "source": [
    "idx = fuzzy_matching(asin_to_idx, favourite_magazine, verbose=False)\n",
    "distances, indices = model_knn.kneighbors(asin_user_mat_sparse[idx], n_neighbors=6)\n",
    "raw_recommends = sorted(list(zip(indices.squeeze().tolist(), distances.squeeze().tolist())), key=lambda x: x[1])[:0:-1]\n",
    "reverse_mapper = {v: k for k, v in asin_to_idx.items()}"
   ]
  },
  {
   "cell_type": "code",
   "execution_count": 18,
   "metadata": {
    "colab": {
     "base_uri": "https://localhost:8080/"
    },
    "id": "cJ1t_jjFPM1y",
    "outputId": "5c511de4-45d8-46b7-ffcc-ac4c670a8757"
   },
   "outputs": [
    {
     "name": "stdout",
     "output_type": "stream",
     "text": [
      "\n",
      "Input Magazine: B00005N7P0\n",
      "\n",
      "Recommendations for users who also browsed B00005N7P0:\n",
      "\n",
      "1: B00005N7UC, with cosine distance of 0.971007245181458\n",
      "2: B00005Q7E7, with cosine distance of 0.9629139658390499\n",
      "3: B00005UQ65, with cosine distance of 0.9619186392981828\n",
      "4: B0032KHQXO, with cosine distance of 0.9341047244023177\n",
      "5: B000F2BVK6, with cosine distance of 0.898123275037932\n"
     ]
    }
   ],
   "source": [
    "print('\\nInput Magazine:', favourite_magazine)\n",
    "print('\\nRecommendations for users who also browsed {}:\\n'.format(favourite_magazine))\n",
    "for i, (idx, dist) in enumerate(raw_recommends):\n",
    "  print('{0}: {1}, with cosine distance of {2}'.format(i+1, df[df['productid'] == idx]['asin'].values[0], dist))"
   ]
  }
 ],
 "metadata": {
  "accelerator": "GPU",
  "colab": {
   "collapsed_sections": [],
   "machine_shape": "hm",
   "name": "Item Based Collaborative Filtering Recommender System.ipynb",
   "provenance": []
  },
  "kernelspec": {
   "display_name": "Python 3",
   "language": "python",
   "name": "python3"
  },
  "language_info": {
   "codemirror_mode": {
    "name": "ipython",
    "version": 3
   },
   "file_extension": ".py",
   "mimetype": "text/x-python",
   "name": "python",
   "nbconvert_exporter": "python",
   "pygments_lexer": "ipython3",
   "version": "3.8.8"
  }
 },
 "nbformat": 4,
 "nbformat_minor": 1
}
